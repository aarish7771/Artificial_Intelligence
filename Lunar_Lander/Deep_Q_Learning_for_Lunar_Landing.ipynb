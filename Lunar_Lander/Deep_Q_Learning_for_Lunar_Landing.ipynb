{
  "cells": [
    {
      "cell_type": "markdown",
      "metadata": {
        "id": "view-in-github",
        "colab_type": "text"
      },
      "source": [
        "<a href=\"https://colab.research.google.com/github/aarish7771/Artificial_Intelligence/blob/main/Lunar_Lander/Deep_Q_Learning_for_Lunar_Landing.ipynb\" target=\"_parent\"><img src=\"https://colab.research.google.com/assets/colab-badge.svg\" alt=\"Open In Colab\"/></a>"
      ]
    },
    {
      "cell_type": "markdown",
      "metadata": {
        "id": "LbZcI9ZXHl3a"
      },
      "source": [
        "# Deep Q-Learning for Lunar Landing"
      ]
    },
    {
      "cell_type": "markdown",
      "metadata": {
        "id": "E8yPRjteXgPb"
      },
      "source": [
        "## Part 0 - Installing the required packages and importing the libraries"
      ]
    },
    {
      "cell_type": "markdown",
      "metadata": {
        "id": "slEm5teGWjWU"
      },
      "source": [
        "### Installing Gymnasium"
      ]
    },
    {
      "cell_type": "code",
      "execution_count": 1,
      "metadata": {
        "id": "dbnq3XpoKa_7",
        "colab": {
          "base_uri": "https://localhost:8080/"
        },
        "outputId": "7a6a82e3-58ec-4ed5-c77c-9ca7bc401367"
      },
      "outputs": [
        {
          "output_type": "stream",
          "name": "stdout",
          "text": [
            "Collecting gymnasium\n",
            "  Downloading gymnasium-0.29.1-py3-none-any.whl (953 kB)\n",
            "\u001b[2K     \u001b[90m━━━━━━━━━━━━━━━━━━━━━━━━━━━━━━━━━━━━━━━━\u001b[0m \u001b[32m953.9/953.9 kB\u001b[0m \u001b[31m6.5 MB/s\u001b[0m eta \u001b[36m0:00:00\u001b[0m\n",
            "\u001b[?25hRequirement already satisfied: numpy>=1.21.0 in /usr/local/lib/python3.10/dist-packages (from gymnasium) (1.25.2)\n",
            "Requirement already satisfied: cloudpickle>=1.2.0 in /usr/local/lib/python3.10/dist-packages (from gymnasium) (2.2.1)\n",
            "Requirement already satisfied: typing-extensions>=4.3.0 in /usr/local/lib/python3.10/dist-packages (from gymnasium) (4.12.2)\n",
            "Collecting farama-notifications>=0.0.1 (from gymnasium)\n",
            "  Downloading Farama_Notifications-0.0.4-py3-none-any.whl (2.5 kB)\n",
            "Installing collected packages: farama-notifications, gymnasium\n",
            "Successfully installed farama-notifications-0.0.4 gymnasium-0.29.1\n",
            "Requirement already satisfied: gymnasium[accept-rom-license,atari] in /usr/local/lib/python3.10/dist-packages (0.29.1)\n",
            "Requirement already satisfied: numpy>=1.21.0 in /usr/local/lib/python3.10/dist-packages (from gymnasium[accept-rom-license,atari]) (1.25.2)\n",
            "Requirement already satisfied: cloudpickle>=1.2.0 in /usr/local/lib/python3.10/dist-packages (from gymnasium[accept-rom-license,atari]) (2.2.1)\n",
            "Requirement already satisfied: typing-extensions>=4.3.0 in /usr/local/lib/python3.10/dist-packages (from gymnasium[accept-rom-license,atari]) (4.12.2)\n",
            "Requirement already satisfied: farama-notifications>=0.0.1 in /usr/local/lib/python3.10/dist-packages (from gymnasium[accept-rom-license,atari]) (0.0.4)\n",
            "Collecting shimmy[atari]<1.0,>=0.1.0 (from gymnasium[accept-rom-license,atari])\n",
            "  Downloading Shimmy-0.2.1-py3-none-any.whl (25 kB)\n",
            "Collecting autorom[accept-rom-license]~=0.4.2 (from gymnasium[accept-rom-license,atari])\n",
            "  Downloading AutoROM-0.4.2-py3-none-any.whl (16 kB)\n",
            "Requirement already satisfied: click in /usr/local/lib/python3.10/dist-packages (from autorom[accept-rom-license]~=0.4.2->gymnasium[accept-rom-license,atari]) (8.1.7)\n",
            "Requirement already satisfied: requests in /usr/local/lib/python3.10/dist-packages (from autorom[accept-rom-license]~=0.4.2->gymnasium[accept-rom-license,atari]) (2.31.0)\n",
            "Requirement already satisfied: tqdm in /usr/local/lib/python3.10/dist-packages (from autorom[accept-rom-license]~=0.4.2->gymnasium[accept-rom-license,atari]) (4.66.4)\n",
            "Collecting AutoROM.accept-rom-license (from autorom[accept-rom-license]~=0.4.2->gymnasium[accept-rom-license,atari])\n",
            "  Downloading AutoROM.accept-rom-license-0.6.1.tar.gz (434 kB)\n",
            "\u001b[2K     \u001b[90m━━━━━━━━━━━━━━━━━━━━━━━━━━━━━━━━━━━━━━━━\u001b[0m \u001b[32m434.7/434.7 kB\u001b[0m \u001b[31m7.8 MB/s\u001b[0m eta \u001b[36m0:00:00\u001b[0m\n",
            "\u001b[?25h  Installing build dependencies ... \u001b[?25l\u001b[?25hdone\n",
            "  Getting requirements to build wheel ... \u001b[?25l\u001b[?25hdone\n",
            "  Preparing metadata (pyproject.toml) ... \u001b[?25l\u001b[?25hdone\n",
            "Collecting ale-py~=0.8.1 (from shimmy[atari]<1.0,>=0.1.0->gymnasium[accept-rom-license,atari])\n",
            "  Downloading ale_py-0.8.1-cp310-cp310-manylinux_2_17_x86_64.manylinux2014_x86_64.whl (1.7 MB)\n",
            "\u001b[2K     \u001b[90m━━━━━━━━━━━━━━━━━━━━━━━━━━━━━━━━━━━━━━━━\u001b[0m \u001b[32m1.7/1.7 MB\u001b[0m \u001b[31m34.8 MB/s\u001b[0m eta \u001b[36m0:00:00\u001b[0m\n",
            "\u001b[?25hRequirement already satisfied: importlib-resources in /usr/local/lib/python3.10/dist-packages (from ale-py~=0.8.1->shimmy[atari]<1.0,>=0.1.0->gymnasium[accept-rom-license,atari]) (6.4.0)\n",
            "Requirement already satisfied: charset-normalizer<4,>=2 in /usr/local/lib/python3.10/dist-packages (from requests->autorom[accept-rom-license]~=0.4.2->gymnasium[accept-rom-license,atari]) (3.3.2)\n",
            "Requirement already satisfied: idna<4,>=2.5 in /usr/local/lib/python3.10/dist-packages (from requests->autorom[accept-rom-license]~=0.4.2->gymnasium[accept-rom-license,atari]) (3.7)\n",
            "Requirement already satisfied: urllib3<3,>=1.21.1 in /usr/local/lib/python3.10/dist-packages (from requests->autorom[accept-rom-license]~=0.4.2->gymnasium[accept-rom-license,atari]) (2.0.7)\n",
            "Requirement already satisfied: certifi>=2017.4.17 in /usr/local/lib/python3.10/dist-packages (from requests->autorom[accept-rom-license]~=0.4.2->gymnasium[accept-rom-license,atari]) (2024.6.2)\n",
            "Building wheels for collected packages: AutoROM.accept-rom-license\n",
            "  Building wheel for AutoROM.accept-rom-license (pyproject.toml) ... \u001b[?25l\u001b[?25hdone\n",
            "  Created wheel for AutoROM.accept-rom-license: filename=AutoROM.accept_rom_license-0.6.1-py3-none-any.whl size=446659 sha256=c7697933bda13122a7031a4ff0dd60f598de434313294c7794dc69387295ee96\n",
            "  Stored in directory: /root/.cache/pip/wheels/6b/1b/ef/a43ff1a2f1736d5711faa1ba4c1f61be1131b8899e6a057811\n",
            "Successfully built AutoROM.accept-rom-license\n",
            "Installing collected packages: ale-py, shimmy, AutoROM.accept-rom-license, autorom\n",
            "Successfully installed AutoROM.accept-rom-license-0.6.1 ale-py-0.8.1 autorom-0.4.2 shimmy-0.2.1\n",
            "Reading package lists... Done\n",
            "Building dependency tree... Done\n",
            "Reading state information... Done\n",
            "The following additional packages will be installed:\n",
            "  swig4.0\n",
            "Suggested packages:\n",
            "  swig-doc swig-examples swig4.0-examples swig4.0-doc\n",
            "The following NEW packages will be installed:\n",
            "  swig swig4.0\n",
            "0 upgraded, 2 newly installed, 0 to remove and 45 not upgraded.\n",
            "Need to get 1,116 kB of archives.\n",
            "After this operation, 5,542 kB of additional disk space will be used.\n",
            "Get:1 http://archive.ubuntu.com/ubuntu jammy/universe amd64 swig4.0 amd64 4.0.2-1ubuntu1 [1,110 kB]\n",
            "Get:2 http://archive.ubuntu.com/ubuntu jammy/universe amd64 swig all 4.0.2-1ubuntu1 [5,632 B]\n",
            "Fetched 1,116 kB in 1s (826 kB/s)\n",
            "Selecting previously unselected package swig4.0.\n",
            "(Reading database ... 121913 files and directories currently installed.)\n",
            "Preparing to unpack .../swig4.0_4.0.2-1ubuntu1_amd64.deb ...\n",
            "Unpacking swig4.0 (4.0.2-1ubuntu1) ...\n",
            "Selecting previously unselected package swig.\n",
            "Preparing to unpack .../swig_4.0.2-1ubuntu1_all.deb ...\n",
            "Unpacking swig (4.0.2-1ubuntu1) ...\n",
            "Setting up swig4.0 (4.0.2-1ubuntu1) ...\n",
            "Setting up swig (4.0.2-1ubuntu1) ...\n",
            "Processing triggers for man-db (2.10.2-1) ...\n",
            "Requirement already satisfied: gymnasium[box2d] in /usr/local/lib/python3.10/dist-packages (0.29.1)\n",
            "Requirement already satisfied: numpy>=1.21.0 in /usr/local/lib/python3.10/dist-packages (from gymnasium[box2d]) (1.25.2)\n",
            "Requirement already satisfied: cloudpickle>=1.2.0 in /usr/local/lib/python3.10/dist-packages (from gymnasium[box2d]) (2.2.1)\n",
            "Requirement already satisfied: typing-extensions>=4.3.0 in /usr/local/lib/python3.10/dist-packages (from gymnasium[box2d]) (4.12.2)\n",
            "Requirement already satisfied: farama-notifications>=0.0.1 in /usr/local/lib/python3.10/dist-packages (from gymnasium[box2d]) (0.0.4)\n",
            "Collecting box2d-py==2.3.5 (from gymnasium[box2d])\n",
            "  Downloading box2d-py-2.3.5.tar.gz (374 kB)\n",
            "\u001b[2K     \u001b[90m━━━━━━━━━━━━━━━━━━━━━━━━━━━━━━━━━━━━━━━━\u001b[0m \u001b[32m374.4/374.4 kB\u001b[0m \u001b[31m5.4 MB/s\u001b[0m eta \u001b[36m0:00:00\u001b[0m\n",
            "\u001b[?25h  Preparing metadata (setup.py) ... \u001b[?25l\u001b[?25hdone\n",
            "Requirement already satisfied: pygame>=2.1.3 in /usr/local/lib/python3.10/dist-packages (from gymnasium[box2d]) (2.5.2)\n",
            "Collecting swig==4.* (from gymnasium[box2d])\n",
            "  Downloading swig-4.2.1-py2.py3-none-manylinux_2_5_x86_64.manylinux1_x86_64.whl (1.9 MB)\n",
            "\u001b[2K     \u001b[90m━━━━━━━━━━━━━━━━━━━━━━━━━━━━━━━━━━━━━━━━\u001b[0m \u001b[32m1.9/1.9 MB\u001b[0m \u001b[31m39.1 MB/s\u001b[0m eta \u001b[36m0:00:00\u001b[0m\n",
            "\u001b[?25hBuilding wheels for collected packages: box2d-py\n",
            "  Building wheel for box2d-py (setup.py) ... \u001b[?25l\u001b[?25hdone\n",
            "  Created wheel for box2d-py: filename=box2d_py-2.3.5-cp310-cp310-linux_x86_64.whl size=2349116 sha256=555ff1a7315c45c085804bdb19d63bab20ab766015f44badf26df37186b0d9f6\n",
            "  Stored in directory: /root/.cache/pip/wheels/db/8f/6a/eaaadf056fba10a98d986f6dce954e6201ba3126926fc5ad9e\n",
            "Successfully built box2d-py\n",
            "Installing collected packages: swig, box2d-py\n",
            "Successfully installed box2d-py-2.3.5 swig-4.2.1\n"
          ]
        }
      ],
      "source": [
        "!pip install gymnasium\n",
        "!pip install \"gymnasium[atari, accept-rom-license]\"\n",
        "!apt-get install -y swig\n",
        "!pip install gymnasium[box2d]"
      ]
    },
    {
      "cell_type": "markdown",
      "metadata": {
        "id": "brqiMN3UW9T9"
      },
      "source": [
        "### Importing the libraries"
      ]
    },
    {
      "cell_type": "code",
      "execution_count": 2,
      "metadata": {
        "id": "mZaKXP_aMl9O"
      },
      "outputs": [],
      "source": [
        "import os\n",
        "import random\n",
        "import numpy as np\n",
        "import torch\n",
        "import torch.nn as nn\n",
        "import torch.optim as optim\n",
        "import torch.nn.functional as F\n",
        "import torch.autograd as autograd\n",
        "from torch.autograd import Variable\n",
        "from collections import deque, namedtuple"
      ]
    },
    {
      "cell_type": "markdown",
      "metadata": {
        "id": "EzlDKXvkXzGI"
      },
      "source": [
        "## Part 1 - Building the AI"
      ]
    },
    {
      "cell_type": "markdown",
      "metadata": {
        "id": "UtG6Zc83YYy3"
      },
      "source": [
        "### Creating the architecture of the Neural Network"
      ]
    },
    {
      "cell_type": "code",
      "source": [
        "class Network(nn.Module):\n",
        "\n",
        "  def __init__(self, state_size, action_size, seed = 42):\n",
        "      super(Network, self).__init__()\n",
        "      self.seed = torch.manual_seed(seed)\n",
        "      self.fc1 = nn.Linear(state_size, 64)\n",
        "      self.fc2 = nn.Linear(64, 64)\n",
        "      self.fc3 = nn.Linear(64, action_size)\n",
        "\n",
        "  def forward(self, state):\n",
        "    x = self.fc1(state)\n",
        "    x = F.relu(x)\n",
        "    x = self.fc2(x)\n",
        "    x = F.relu(x)\n",
        "    return self.fc3(x)"
      ],
      "metadata": {
        "id": "WmJ0Ex8mskxS"
      },
      "execution_count": 38,
      "outputs": []
    },
    {
      "cell_type": "markdown",
      "metadata": {
        "id": "UxVrBnFWZKb1"
      },
      "source": [
        "## Part 2 - Training the AI"
      ]
    },
    {
      "cell_type": "markdown",
      "metadata": {
        "id": "T364fz9qZb2j"
      },
      "source": [
        "### Setting up the environment"
      ]
    },
    {
      "cell_type": "code",
      "source": [
        "import gymnasium as gym\n",
        "env = gym.make(\"LunarLander-v2\")\n",
        "state_shape = env.observation_space.shape\n",
        "state_size = env.observation_space.shape[0]\n",
        "number_actions = env.action_space.n\n",
        "print(\"State Shape: \", state_shape)\n",
        "print(\"State Size: \", state_size)\n",
        "print(\"Number of actions: \", number_actions)"
      ],
      "metadata": {
        "colab": {
          "base_uri": "https://localhost:8080/"
        },
        "id": "CNu-5fdYu05Q",
        "outputId": "f9bea0a7-c8a3-4520-9bb3-714fbb628dab"
      },
      "execution_count": 39,
      "outputs": [
        {
          "output_type": "stream",
          "name": "stdout",
          "text": [
            "State Shape:  (8,)\n",
            "State Size:  8\n",
            "Number of actions:  4\n"
          ]
        }
      ]
    },
    {
      "cell_type": "markdown",
      "metadata": {
        "id": "c_dZmOIvZgj-"
      },
      "source": [
        "### Initializing the hyperparameters"
      ]
    },
    {
      "cell_type": "code",
      "source": [
        "learning_rate = 5e-4\n",
        "minibatch_size = 100\n",
        "discount_factor = 0.99           #gamma\n",
        "replay_buffer_size = int(1e5)\n",
        "interpolation_parameter = 1e-3   #tau"
      ],
      "metadata": {
        "id": "EANC0gEm5wAB"
      },
      "execution_count": 40,
      "outputs": []
    },
    {
      "cell_type": "markdown",
      "metadata": {
        "id": "8hD_Vs-bYnip"
      },
      "source": [
        "### Implementing Experience Replay"
      ]
    },
    {
      "cell_type": "code",
      "source": [
        "class ReplayMemory(object):\n",
        "\n",
        "  def __init__(self, capacity):\n",
        "    self.device = torch.device(\"cuda:0\" if torch.cuda.is_available() else \"cpu\")\n",
        "    self.capacity = capacity\n",
        "    self.memory = []\n",
        "\n",
        "  def push(self, event):\n",
        "    self.memory.append(event)\n",
        "    if len(self.memory) > self.capacity:\n",
        "      del self.memory[0]\n",
        "\n",
        "  def sample(self, batch_size):\n",
        "    experiences = random.sample(self.memory, k = batch_size)\n",
        "    states = torch.from_numpy(np.vstack([e[0] for e in experiences if e is not None])).float().to(self.device)\n",
        "    actions = torch.from_numpy(np.vstack([e[1] for e in experiences if e is not None])).long().to(self.device)\n",
        "    rewards = torch.from_numpy(np.vstack([e[2] for e in experiences if e is not None])).float().to(self.device)\n",
        "    next_states = torch.from_numpy(np.vstack([e[3] for e in experiences if e is not None])).float().to(self.device)\n",
        "    dones = torch.from_numpy(np.vstack([e[4] for e in experiences if e is not None]).astype(np.uint8)).float().to(self.device)\n",
        "    return states, next_states, actions, rewards, dones\n"
      ],
      "metadata": {
        "id": "B9TZnwNT7klB"
      },
      "execution_count": 41,
      "outputs": []
    },
    {
      "cell_type": "markdown",
      "metadata": {
        "id": "JmEkbFbUY6Jt"
      },
      "source": [
        "### Implementing the DQN class"
      ]
    },
    {
      "cell_type": "code",
      "source": [
        "class Agent():\n",
        "\n",
        "  def __init__(self, state_size, action_size):\n",
        "    self.device = torch.device(\"cuda:0\" if torch.cuda.is_available() else \"cpu\")\n",
        "    self.state_size = state_size\n",
        "    self.action_size = action_size\n",
        "    self.local_qnetwork = Network(state_size, action_size).to(self.device)\n",
        "    self.target_qnetwork = Network(state_size, action_size).to(self.device)\n",
        "    self.optimizer = optim.Adam(self.local_qnetwork.parameters(), lr = learning_rate)\n",
        "    self.memory = ReplayMemory(replay_buffer_size)\n",
        "    self.t_step = 0\n",
        "\n",
        "  def step(self, state, action, reward, next_state, done):\n",
        "    self.memory.push((state, action, reward, next_state, done))\n",
        "    self.t_step = (self.t_step + 1) % 4\n",
        "    if self.t_step == 0:\n",
        "      if len(self.memory.memory) > minibatch_size:\n",
        "        experiences = self.memory.sample(100)\n",
        "        self.learn(experiences, discount_factor)\n",
        "\n",
        "  def act(self, state, epsilon = 0.):\n",
        "    state = torch.from_numpy(state).float().unsqueeze(0).to(self.device)\n",
        "    self.local_qnetwork.eval()\n",
        "    with torch.no_grad():\n",
        "      action_values = self.local_qnetwork(state)\n",
        "    self.local_qnetwork.train()\n",
        "    if random.random() > epsilon:\n",
        "      return np.argmax(action_values.cpu().data.numpy())\n",
        "    else:\n",
        "      return random.choice(np.arange(self.action_size))\n",
        "\n",
        "  def learn(self, experiences, discount_factor):\n",
        "    states, next_states, actions, rewards, dones = experiences\n",
        "    next_q_targets = self.target_qnetwork(next_states).detach().max(1)[0].unsqueeze(1)\n",
        "    q_targets = rewards + (discount_factor * next_q_targets * (1-dones))\n",
        "    q_expected = self.local_qnetwork(states).gather(1, actions)\n",
        "    loss = F.mse_loss(q_expected, q_targets)\n",
        "    self.optimizer.zero_grad()\n",
        "    loss.backward()\n",
        "    self.optimizer.step()\n",
        "    self.soft_update(self.local_qnetwork, self.target_qnetwork, interpolation_parameter)\n",
        "\n",
        "  def soft_update(self, local_model, target_model, interpolation_parameter):\n",
        "    for target_param, local_param in zip(target_model.parameters(), local_model.parameters()):\n",
        "      target_param.data.copy_(interpolation_parameter * local_param.data + (1.0 - interpolation_parameter) * target_param.data)"
      ],
      "metadata": {
        "id": "WLiMnk_kBWHK"
      },
      "execution_count": 55,
      "outputs": []
    },
    {
      "cell_type": "code",
      "source": [
        "class Agent():\n",
        "\n",
        "  def __init__(self, state_size, action_size):\n",
        "    self.device = torch.device(\"cuda:0\" if torch.cuda.is_available() else \"cpu\")\n",
        "    self.state_size = state_size\n",
        "    self.action_size = action_size\n",
        "    self.local_qnetwork = Network(state_size, action_size).to(self.device)\n",
        "    self.target_qnetwork = Network(state_size, action_size).to(self.device)\n",
        "    self.optimizer = optim.Adam(self.local_qnetwork.parameters(), lr = learning_rate)\n",
        "    self.memory = ReplayMemory(replay_buffer_size)\n",
        "    self.t_step = 0\n",
        "\n",
        "  def step(self, state, action, reward, next_state, done):\n",
        "    self.memory.push((state, action, reward, next_state, done))\n",
        "    self.t_step = (self.t_step + 1) % 4\n",
        "    if self.t_step == 0:\n",
        "      if len(self.memory.memory) > minibatch_size:\n",
        "        experiences = self.memory.sample(100)\n",
        "        self.learn(experiences, discount_factor)\n",
        "\n",
        "  def act(self, state, epsilon = 0.):\n",
        "    state = torch.from_numpy(state).float().unsqueeze(0).to(self.device)\n",
        "    self.local_qnetwork.eval()\n",
        "    with torch.no_grad():\n",
        "      action_values = self.local_qnetwork(state)\n",
        "    self.local_qnetwork.train()\n",
        "    if random.random() > epsilon:\n",
        "      return np.argmax(action_values.cpu().data.numpy())\n",
        "    else:\n",
        "      return random.choice(np.arange(self.action_size))\n",
        "\n",
        "  def learn(self, experiences, discount_factor):\n",
        "    states, next_states, actions, rewards, dones = experiences\n",
        "    next_q_targets = self.target_qnetwork(next_states).detach().max(1)[0].unsqueeze(1)\n",
        "    q_targets = rewards + discount_factor * next_q_targets * (1 - dones)\n",
        "    q_expected = self.local_qnetwork(states).gather(1, actions)\n",
        "    loss = F.mse_loss(q_expected, q_targets)\n",
        "    self.optimizer.zero_grad()\n",
        "    loss.backward()\n",
        "    self.optimizer.step()\n",
        "    self.soft_update(self.local_qnetwork, self.target_qnetwork, interpolation_parameter)\n",
        "\n",
        "  def soft_update(self, local_model, target_model, interpolation_parameter):\n",
        "    for target_param, local_param in zip(target_model.parameters(), local_model.parameters()):\n",
        "      target_param.data.copy_(interpolation_parameter * local_param.data + (1.0 - interpolation_parameter) * target_param.data)"
      ],
      "metadata": {
        "id": "MS-XcNLdysks"
      },
      "execution_count": 56,
      "outputs": []
    },
    {
      "cell_type": "markdown",
      "metadata": {
        "id": "o1tZElccZmf6"
      },
      "source": [
        "### Initializing the DQN agent"
      ]
    },
    {
      "cell_type": "code",
      "source": [
        "agent = Agent(state_size, number_actions)"
      ],
      "metadata": {
        "id": "OMasoSzGgD-x"
      },
      "execution_count": 57,
      "outputs": []
    },
    {
      "cell_type": "markdown",
      "metadata": {
        "id": "E8v0PtUfaVQp"
      },
      "source": [
        "### Training the DQN agent"
      ]
    },
    {
      "cell_type": "code",
      "source": [
        "number_episodes = 2000\n",
        "maximum_number_timesteps_per_episode = 1000\n",
        "epsilon_starting_value = 1.0\n",
        "epsilon_ending_value = 0.01\n",
        "epsilon_decay_value = 0.995\n",
        "epsilon = epsilon_starting_value\n",
        "scores_on_100_episodes = deque(maxlen = 100)\n",
        "\n",
        "for episode in range(1, number_episodes + 1):\n",
        "  state, _ = env.reset()\n",
        "  score = 0\n",
        "  for t in range(maximum_number_timesteps_per_episode):\n",
        "    action = agent.act(state, epsilon)\n",
        "    next_state, reward, done, _, _ = env.step(action)\n",
        "    agent.step(state, action, reward, next_state, done)\n",
        "    state = next_state\n",
        "    score += reward\n",
        "    if done:\n",
        "      break\n",
        "  scores_on_100_episodes.append(score)\n",
        "  epsilon = max(epsilon_ending_value, epsilon_decay_value * epsilon)\n",
        "  print('\\rEpisode {}\\tAverage Score: {:.2f}'.format(episode, np.mean(scores_on_100_episodes)), end = \"\")  # dynamic printing\n",
        "  if episode % 100 == 0:\n",
        "    print('\\rEpisode {}\\tAverage Score: {:.2f}'.format(episode, np.mean(scores_on_100_episodes)))\n",
        "  if np.mean(scores_on_100_episodes) > 200.0:\n",
        "    print('\\nEnvironment Solved in {:d} Episodes!\\tAverage Score: {:.2f}'.format(episode - 100, np.mean(scores_on_100_episodes)))\n",
        "    torch.save(agent.local_qnetwork.state_dict(), 'checkpoint.pth')\n",
        "    break\n"
      ],
      "metadata": {
        "colab": {
          "base_uri": "https://localhost:8080/"
        },
        "id": "TOCRTcRmgN-V",
        "outputId": "ffa59932-d6dc-483d-b80e-3559fa0dfb70"
      },
      "execution_count": 59,
      "outputs": [
        {
          "output_type": "stream",
          "name": "stdout",
          "text": [
            "Episode 100\tAverage Score: -162.39\n",
            "Episode 200\tAverage Score: -56.40\n",
            "Episode 300\tAverage Score: 42.44\n",
            "Episode 400\tAverage Score: 201.91\n",
            "\n",
            "Environment Solved in 300 Episodes!\tAverage Score: 201.91\n"
          ]
        }
      ]
    },
    {
      "cell_type": "markdown",
      "metadata": {
        "id": "O8CNwdOTcCoP"
      },
      "source": [
        "## Part 3 - Visualizing the results"
      ]
    },
    {
      "cell_type": "code",
      "execution_count": 60,
      "metadata": {
        "id": "cb9nVvU2Okhk",
        "colab": {
          "base_uri": "https://localhost:8080/",
          "height": 459
        },
        "outputId": "d6a94810-d9fd-4bd0-fdac-78b54ed3e7b1"
      },
      "outputs": [
        {
          "output_type": "stream",
          "name": "stderr",
          "text": [
            "WARNING:imageio_ffmpeg:IMAGEIO FFMPEG_WRITER WARNING: input image is not divisible by macro_block_size=16, resizing from (600, 400) to (608, 400) to ensure video compatibility with most codecs and players. To prevent resizing, make your input image divisible by the macro_block_size or set the macro_block_size to 1 (risking incompatibility).\n"
          ]
        },
        {
          "output_type": "display_data",
          "data": {
            "text/plain": [
              "<IPython.core.display.HTML object>"
            ],
            "text/html": [
              "<video alt=\"test\" autoplay\n",
              "                loop controls style=\"height: 400px;\">\n",
              "                <source src=\"data:video/mp4;base64,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\" type=\"video/mp4\" />\n",
              "             </video>"
            ]
          },
          "metadata": {}
        }
      ],
      "source": [
        "import glob\n",
        "import io\n",
        "import base64\n",
        "import imageio\n",
        "from IPython.display import HTML, display\n",
        "from gym.wrappers.monitoring.video_recorder import VideoRecorder\n",
        "\n",
        "def show_video_of_model(agent, env_name):\n",
        "    env = gym.make(env_name, render_mode='rgb_array')\n",
        "    state, _ = env.reset()\n",
        "    done = False\n",
        "    frames = []\n",
        "    while not done:\n",
        "        frame = env.render()\n",
        "        frames.append(frame)\n",
        "        action = agent.act(state)\n",
        "        state, reward, done, _, _ = env.step(action.item())\n",
        "    env.close()\n",
        "    imageio.mimsave('video.mp4', frames, fps=30)\n",
        "\n",
        "show_video_of_model(agent, 'LunarLander-v2')\n",
        "\n",
        "def show_video():\n",
        "    mp4list = glob.glob('*.mp4')\n",
        "    if len(mp4list) > 0:\n",
        "        mp4 = mp4list[0]\n",
        "        video = io.open(mp4, 'r+b').read()\n",
        "        encoded = base64.b64encode(video)\n",
        "        display(HTML(data='''<video alt=\"test\" autoplay\n",
        "                loop controls style=\"height: 400px;\">\n",
        "                <source src=\"data:video/mp4;base64,{0}\" type=\"video/mp4\" />\n",
        "             </video>'''.format(encoded.decode('ascii'))))\n",
        "    else:\n",
        "        print(\"Could not find video\")\n",
        "\n",
        "show_video()"
      ]
    }
  ],
  "metadata": {
    "colab": {
      "provenance": [],
      "include_colab_link": true
    },
    "kernelspec": {
      "display_name": "Python 3",
      "name": "python3"
    },
    "language_info": {
      "name": "python"
    }
  },
  "nbformat": 4,
  "nbformat_minor": 0
}